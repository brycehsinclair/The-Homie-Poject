{
 "cells": [
  {
   "cell_type": "markdown",
   "metadata": {},
   "source": [
    "# Introduction to Data Analysis\n",
    "This notebook will be an introduction to working with real-world data in Python. Objectives to teach:\n",
    "- Importing necessary libraries.\n",
    "- Loading and inspecting data.\n",
    "- Cleaning missing values.\n",
    "- Renaming and formatting columns.\n",
    "- Basic statistics.\n",
    "\n",
    "Welcome to your first data analysis script! In this notebook, you'll learn:\n",
    "- How to load and inspect a dataset.\n",
    "- How to clean messy data.\n",
    "- Basic descriptive statistics.\n",
    "\n",
    "Let's get started!"
   ]
  },
  {
   "cell_type": "markdown",
   "metadata": {},
   "source": [
    "## Python Package Imports and Setup"
   ]
  },
  {
   "cell_type": "code",
   "execution_count": null,
   "metadata": {},
   "outputs": [],
   "source": [
    "### Step 1: Import Necessary Libraries\n",
    "import pandas as pd                         # Data manipulation\n",
    "import numpy as np                          # Numerical operations\n",
    "import matplotlib.pyplot as plt             # Visualization\n",
    "import seaborn as sns                       # Advanced visualizations\n",
    "\n",
    "### Step 2: Load a sample dataset\n",
    "df = pd.read_csv(\"Data/Sample-Data.csv\")    # Read .csv data into Pandas Dataframe\n",
    "\n",
    "### Step 3: View the first few rows\n",
    "df.head()                                   # Peek at the first few rows"
   ]
  },
  {
   "cell_type": "code",
   "execution_count": 3,
   "metadata": {},
   "outputs": [
    {
     "name": "stdout",
     "output_type": "stream",
     "text": [
      "<class 'pandas.core.frame.DataFrame'>\n",
      "RangeIndex: 10 entries, 0 to 9\n",
      "Data columns (total 6 columns):\n",
      " #   Column       Non-Null Count  Dtype  \n",
      "---  ------       --------------  -----  \n",
      " 0   id           10 non-null     int64  \n",
      " 1   name         8 non-null      object \n",
      " 2   age          8 non-null      float64\n",
      " 3   city         9 non-null      object \n",
      " 4   income       8 non-null      float64\n",
      " 5   signup_date  9 non-null      object \n",
      "dtypes: float64(2), int64(1), object(3)\n",
      "memory usage: 612.0+ bytes\n"
     ]
    },
    {
     "data": {
      "text/html": [
       "<div>\n",
       "<style scoped>\n",
       "    .dataframe tbody tr th:only-of-type {\n",
       "        vertical-align: middle;\n",
       "    }\n",
       "\n",
       "    .dataframe tbody tr th {\n",
       "        vertical-align: top;\n",
       "    }\n",
       "\n",
       "    .dataframe thead th {\n",
       "        text-align: right;\n",
       "    }\n",
       "</style>\n",
       "<table border=\"1\" class=\"dataframe\">\n",
       "  <thead>\n",
       "    <tr style=\"text-align: right;\">\n",
       "      <th></th>\n",
       "      <th>id</th>\n",
       "      <th>age</th>\n",
       "      <th>income</th>\n",
       "    </tr>\n",
       "  </thead>\n",
       "  <tbody>\n",
       "    <tr>\n",
       "      <th>count</th>\n",
       "      <td>10.00000</td>\n",
       "      <td>8.000000</td>\n",
       "      <td>8.000000</td>\n",
       "    </tr>\n",
       "    <tr>\n",
       "      <th>mean</th>\n",
       "      <td>5.50000</td>\n",
       "      <td>27.875000</td>\n",
       "      <td>67750.000000</td>\n",
       "    </tr>\n",
       "    <tr>\n",
       "      <th>std</th>\n",
       "      <td>3.02765</td>\n",
       "      <td>13.881514</td>\n",
       "      <td>13488.089984</td>\n",
       "    </tr>\n",
       "    <tr>\n",
       "      <th>min</th>\n",
       "      <td>1.00000</td>\n",
       "      <td>-1.000000</td>\n",
       "      <td>50000.000000</td>\n",
       "    </tr>\n",
       "    <tr>\n",
       "      <th>25%</th>\n",
       "      <td>3.25000</td>\n",
       "      <td>24.250000</td>\n",
       "      <td>58750.000000</td>\n",
       "    </tr>\n",
       "    <tr>\n",
       "      <th>50%</th>\n",
       "      <td>5.50000</td>\n",
       "      <td>29.500000</td>\n",
       "      <td>66000.000000</td>\n",
       "    </tr>\n",
       "    <tr>\n",
       "      <th>75%</th>\n",
       "      <td>7.75000</td>\n",
       "      <td>34.750000</td>\n",
       "      <td>76250.000000</td>\n",
       "    </tr>\n",
       "    <tr>\n",
       "      <th>max</th>\n",
       "      <td>10.00000</td>\n",
       "      <td>45.000000</td>\n",
       "      <td>90000.000000</td>\n",
       "    </tr>\n",
       "  </tbody>\n",
       "</table>\n",
       "</div>"
      ],
      "text/plain": [
       "             id        age        income\n",
       "count  10.00000   8.000000      8.000000\n",
       "mean    5.50000  27.875000  67750.000000\n",
       "std     3.02765  13.881514  13488.089984\n",
       "min     1.00000  -1.000000  50000.000000\n",
       "25%     3.25000  24.250000  58750.000000\n",
       "50%     5.50000  29.500000  66000.000000\n",
       "75%     7.75000  34.750000  76250.000000\n",
       "max    10.00000  45.000000  90000.000000"
      ]
     },
     "execution_count": 3,
     "metadata": {},
     "output_type": "execute_result"
    }
   ],
   "source": [
    "### Check data types and missing values\n",
    "df.info()\n",
    "\n",
    "### Summary statistics\n",
    "df.describe()"
   ]
  }
 ],
 "metadata": {
  "kernelspec": {
   "display_name": "Python 3",
   "language": "python",
   "name": "python3"
  },
  "language_info": {
   "codemirror_mode": {
    "name": "ipython",
    "version": 3
   },
   "file_extension": ".py",
   "mimetype": "text/x-python",
   "name": "python",
   "nbconvert_exporter": "python",
   "pygments_lexer": "ipython3",
   "version": "3.13.2"
  }
 },
 "nbformat": 4,
 "nbformat_minor": 2
}
